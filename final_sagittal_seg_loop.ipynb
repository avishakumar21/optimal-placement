{
  "cells": [
    {
      "cell_type": "code",
      "execution_count": null,
      "metadata": {
        "colab": {
          "base_uri": "https://localhost:8080/"
        },
        "id": "aP-JFuAZvy6B",
        "outputId": "68307976-9070-4349-ccff-1a06a204410d"
      },
      "outputs": [
        {
          "output_type": "stream",
          "name": "stdout",
          "text": [
            "Drive already mounted at /content/gdrive; to attempt to forcibly remount, call drive.mount(\"/content/gdrive\", force_remount=True).\n"
          ]
        }
      ],
      "source": [
        "from google.colab import drive\n",
        "\n",
        "drive.mount('/content/gdrive')"
      ]
    },
    {
      "cell_type": "code",
      "execution_count": null,
      "metadata": {
        "colab": {
          "base_uri": "https://localhost:8080/"
        },
        "id": "AxSRfKSAv2-q",
        "outputId": "f0d0248b-21a0-460b-bd6a-d94f32859e7c"
      },
      "outputs": [
        {
          "output_type": "stream",
          "name": "stdout",
          "text": [
            "Looking in indexes: https://pypi.org/simple, https://us-python.pkg.dev/colab-wheels/public/simple/\n",
            "Requirement already satisfied: pydicom in /usr/local/lib/python3.9/dist-packages (2.3.1)\n"
          ]
        }
      ],
      "source": [
        "!pip install pydicom"
      ]
    },
    {
      "cell_type": "code",
      "execution_count": null,
      "metadata": {
        "id": "Rr4mjznev-p7"
      },
      "outputs": [],
      "source": [
        "import pydicom\n",
        "import numpy as np\n",
        "import matplotlib.pyplot as plt\n",
        "import os\n",
        "\n",
        "image_path = '/content/gdrive/MyDrive/HEPIUS/Images/'\n",
        "image_files = [os.path.join(image_path, f) for f in os.listdir(image_path) if os.path.isfile(os.path.join(image_path, f))]\n",
        "\n",
        "ic = 1\n",
        "save_path = '/content/gdrive/MyDrive/HEPIUS/Results/'"
      ]
    },
    {
      "cell_type": "code",
      "source": [
        "from skimage.transform import resize\n",
        "import cv2\n",
        "from skimage.segmentation import chan_vese\n",
        "import numpy\n",
        "from skimage import measure"
      ],
      "metadata": {
        "id": "qcQfTT_BPePs"
      },
      "execution_count": null,
      "outputs": []
    },
    {
      "cell_type": "code",
      "source": [
        "start_row, start_col = 250, 325\n",
        "end_row, end_col = 550, 950\n",
        "\n"
      ],
      "metadata": {
        "id": "j872YnD8PKqc"
      },
      "execution_count": null,
      "outputs": []
    },
    {
      "cell_type": "code",
      "source": [
        "# Setting up parameters for the loop\n",
        "\n",
        "# kernel for dilation and erosion\n",
        "kernel = np.ones((5, 5), np.uint8)\n",
        "\n",
        "# parameters for chan vese seg\n",
        "lambda1 = 1\n",
        "lambda2 = 1\n",
        "iterations = 20000\n",
        "init_level_set = \"checkerboard\"\n",
        "dt = 0.75"
      ],
      "metadata": {
        "id": "pYoDK4Seh5YR"
      },
      "execution_count": null,
      "outputs": []
    },
    {
      "cell_type": "code",
      "execution_count": null,
      "metadata": {
        "colab": {
          "base_uri": "https://localhost:8080/",
          "height": 559
        },
        "id": "sqAY93vTwEep",
        "outputId": "40a8b5dd-0b9c-46bc-b3e0-b0fe01fecc70"
      },
      "outputs": [
        {
          "output_type": "stream",
          "name": "stdout",
          "text": [
            "Completion of image 80\n",
            "Exception in image 81\n",
            "Completion of image 82\n",
            "Completion of image 83\n",
            "Completion of image 84\n",
            "Completion of image 85\n",
            "Completion of image 86\n",
            "Completion of image 87\n",
            "Completion of image 88\n",
            "Completion of image 89\n",
            "Completion of image 90\n",
            "Completion of image 91\n",
            "Exception in image 92\n",
            "Completion of image 93\n",
            "Completion of image 94\n",
            "Completion of image 95\n",
            "Completion of image 96\n",
            "Exception in image 97\n",
            "Completion of image 98\n",
            "Completion of image 99\n"
          ]
        },
        {
          "output_type": "display_data",
          "data": {
            "text/plain": [
              "<Figure size 432x288 with 1 Axes>"
            ],
            "image/png": "[encoded data removed]"
          },
          "metadata": {
            "needs_background": "light"
          }
        }
      ],
      "source": [
        "#counter to limit images\n",
        "ic = 1   \n",
        "\n",
        "# Running a loop for all images in directory\n",
        "\n",
        "for image_file in image_files:\n",
        "  if ic<80:\n",
        "    ic += 1\n",
        "    continue\n",
        "  else:\n",
        "    # Read the dicom image\n",
        "    dicom_image = pydicom.dcmread(image_file)\n",
        "    image = dicom_image.pixel_array\n",
        "\n",
        "    # filtering multidimensional images\n",
        "    try:\n",
        "      plt.imshow(image, cmap=\"gray\")\n",
        "      plt.savefig(save_path + '/OriginalImage/image' + str(ic), bbox_inches = 'tight')\n",
        "    except:\n",
        "      print(\"Exception in image \" + str(ic))\n",
        "      del image\n",
        "      ic += 1\n",
        "      continue\n",
        "\n",
        "    # crop the image to focus on the vein\n",
        "    cropped_image = image[start_row:end_row, start_col:end_col]\n",
        "\n",
        "    # initialize threshold\n",
        "    threshold = 80\n",
        "    cropped_image[cropped_image < threshold] = 0\n",
        "    plt.imshow(cropped_image, cmap=\"gray\")\n",
        "    plt.savefig(save_path + '/Crop/crop' + str(ic), bbox_inches = 'tight')\n",
        "    \n",
        "    # resize the image for segmentation\n",
        "    resized_image = cropped_image[:,:,0]\n",
        "\n",
        "\n",
        "    # preprocess the image using dilation and erosion\n",
        "    img_dil = cv2.dilate(resized_image, kernel, iterations=1)\n",
        "    img_er = cv2.erode(img_dil, kernel, iterations=1)\n",
        "    plt.imshow(img_er)\n",
        "    plt.savefig(save_path + '/PreSeg/pre_seg' + str(ic), bbox_inches = 'tight')\n",
        "    \n",
        "    # Applying Chan Vese Segmentation\n",
        "    seg = chan_vese(img_er, mu=0.25, lambda1=lambda1, lambda2=lambda2, tol=1e-3, max_num_iter=iterations, init_level_set=init_level_set, dt=dt)\n",
        "    plt.imshow(seg)\n",
        "    plt.savefig(save_path + '/PostSeg/post_seg' + str(ic), bbox_inches = 'tight')\n",
        "    \n",
        "    # Initialize array for label\n",
        "    grey = numpy.ones((len(seg),len(seg[0])))\n",
        "    for i in range(0,len(seg)):\n",
        "      for j in range(0,len(seg[0])):\n",
        "        if seg[i][j] == False:\n",
        "          grey[i][j] = 1\n",
        "        else:\n",
        "          grey[i][j] = 250\n",
        "\n",
        "    # Applying labels\n",
        "    labels = measure.label(grey)\n",
        "    plt.imshow(labels)\n",
        "    plt.savefig(save_path + '/Label/label' + str(ic), bbox_inches = 'tight')\n",
        "    print(\"Completion of image \" + str(ic))\n",
        "    ic += 1\n",
        "    \n",
        "\n",
        "\n"
      ]
    },
    {
      "cell_type": "code",
      "source": [],
      "metadata": {
        "id": "WMGP3pzp88na"
      },
      "execution_count": null,
      "outputs": []
    }
  ],
  "metadata": {
    "colab": {
      "provenance": []
    },
    "kernelspec": {
      "display_name": "Python 3",
      "name": "python3"
    },
    "language_info": {
      "name": "python"
    }
  },
  "nbformat": 4,
  "nbformat_minor": 0
}